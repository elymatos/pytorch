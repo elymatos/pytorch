{
 "cells": [
  {
   "cell_type": "code",
   "execution_count": 3,
   "id": "bd1ba0aa-2590-4d91-b169-5e50ee4453ec",
   "metadata": {},
   "outputs": [
    {
     "ename": "ModuleNotFoundError",
     "evalue": "No module named 'htpc_graph_builder'",
     "output_type": "error",
     "traceback": [
      "\u001b[0;31m---------------------------------------------------------------------------\u001b[0m",
      "\u001b[0;31mModuleNotFoundError\u001b[0m                       Traceback (most recent call last)",
      "Cell \u001b[0;32mIn[3], line 1\u001b[0m\n\u001b[0;32m----> 1\u001b[0m \u001b[38;5;28;01mfrom\u001b[39;00m\u001b[38;5;250m \u001b[39m\u001b[38;5;21;01mhtpc_graph_builder\u001b[39;00m\u001b[38;5;250m \u001b[39m\u001b[38;5;28;01mimport\u001b[39;00m HTCPGraphBuilder\n\u001b[1;32m      3\u001b[0m \u001b[38;5;66;03m# Create a builder instance\u001b[39;00m\n\u001b[1;32m      4\u001b[0m builder \u001b[38;5;241m=\u001b[39m HTCPGraphBuilder()\n",
      "\u001b[0;31mModuleNotFoundError\u001b[0m: No module named 'htpc_graph_builder'"
     ]
    }
   ],
   "source": [
    "from HTPC_graph_builder import HTCPGraphBuilder\n",
    "\n",
    "# Create a builder instance\n",
    "builder = HTCPGraphBuilder()\n",
    "\n",
    "# Configure thresholds if needed\n",
    "builder.thresholds = {\n",
    "    \"bigram\": 2,     # Minimum frequency to create a bigram\n",
    "    \"phrase\": 2,     # Minimum frequency to create a phrase\n",
    "    \"hierarchy\": 1,  # Minimum frequency to create a hierarchy\n",
    "    \"discourse\": 1   # Minimum frequency to create a discourse pattern\n",
    "}\n",
    "\n",
    "# Build the graph from the example file\n",
    "print(\"Building graph from test_input.txt...\")\n",
    "if builder.build_from_file(\"test_input.txt\"):\n",
    "    print(\"Graph built successfully.\")\n",
    "    \n",
    "    # Print some statistics\n",
    "    print(f\"\\nStatistics:\")\n",
    "    print(f\"Total nodes: {len(builder.graph['nodes'])}\")\n",
    "    print(f\"AND nodes: {builder.graph['metadata']['and_count']}\")\n",
    "    print(f\"OR nodes: {builder.graph['metadata']['or_count']}\")\n",
    "    print(f\"L1 nodes: {builder.graph['metadata']['levels']['L1']}\")\n",
    "    print(f\"L2 nodes: {builder.graph['metadata']['levels']['L2']}\")\n",
    "    print(f\"L3 nodes: {builder.graph['metadata']['levels']['L3']}\")\n",
    "    print(f\"L4 nodes: {builder.graph['metadata']['levels']['L4']}\")\n",
    "    print(f\"L5 nodes: {builder.graph['metadata']['levels']['L5']}\")\n",
    "    print(f\"Total edges: {len(builder.graph['edges'])}\")\n",
    "    \n",
    "    # Save the graph to a JSON file\n",
    "    if builder.save_to_json(\"htpc_model.json\"):\n",
    "        print(\"\\nGraph saved to htpc_model.json\")\n",
    "    else:\n",
    "        print(\"\\nFailed to save graph.\")\n",
    "    \n",
    "    # Generate visualization\n",
    "    print(\"\\nGenerating visualization...\")\n",
    "    if builder.visualize(\"htpc_graph.png\", max_nodes=50, show=False):\n",
    "        print(\"Visualization saved to htpc_graph.png\")\n",
    "    else:\n",
    "        print(\"Failed to create visualization.\")\n",
    "else:\n",
    "    print(\"Failed to build graph.\")"
   ]
  },
  {
   "cell_type": "code",
   "execution_count": null,
   "id": "2055a1c4-f8d5-4b18-ad8b-64945034b9e0",
   "metadata": {},
   "outputs": [],
   "source": []
  }
 ],
 "metadata": {
  "kernelspec": {
   "display_name": "FN4.PyTorch",
   "language": "python",
   "name": "fn4.pytorch"
  },
  "language_info": {
   "codemirror_mode": {
    "name": "ipython",
    "version": 3
   },
   "file_extension": ".py",
   "mimetype": "text/x-python",
   "name": "python",
   "nbconvert_exporter": "python",
   "pygments_lexer": "ipython3",
   "version": "3.9.21"
  }
 },
 "nbformat": 4,
 "nbformat_minor": 5
}
