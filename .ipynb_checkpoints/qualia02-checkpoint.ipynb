{
 "cells": [
  {
   "cell_type": "code",
   "execution_count": 1,
   "id": "c8a8a614-b66d-411d-b353-b232881353c7",
   "metadata": {},
   "outputs": [],
   "source": [
    "# =======================\n",
    "# 📚 Import Libraries\n",
    "# =======================\n",
    "from langchain_core.prompts import ChatPromptTemplate\n",
    "from langchain_openai import ChatOpenAI\n",
    "from typing import Dict\n",
    "from langchain_core.messages import HumanMessage, SystemMessage"
   ]
  },
  {
   "cell_type": "code",
   "execution_count": 2,
   "id": "2b0d618e-1828-45c0-91c7-ddbc377d6ed8",
   "metadata": {},
   "outputs": [
    {
     "name": "stdout",
     "output_type": "stream",
     "text": [
      " {\n",
      "\"agentivally causes\": [\n",
      "\"br object\", \"plate\", \"vase\", \"glass\", \"cup\", \"plate\", \"bottle\", \"fork\", \"spoon\"\n",
      "],\n",
      "\"agentivally uses\": [\n",
      "\"force\", \"strength\", \"pressure\", \"weight\", \"tool\"\n",
      "],\n",
      "\"has as agentive cause\": [\n",
      "\"stress\", \"pressure\", \"force\"\n",
      "],\n",
      "\"is associated with\": [\n",
      "\"repair\", \"maintenance\", \"damage\", \"accident\"\n",
      "],\n",
      "\"causes\": [\n",
      "\"damage\", \"breakage\", \"disruption\"\n",
      "],\n",
      "\"contains\": [\n",
      "\"fracture\", \"crack\"\n",
      "],\n",
      "\"is created by\": [\n",
      "\"stress\", \"pressure\", \"force\"\n",
      "],\n",
      "\"is caused by\": [\n",
      "\"stress\", \"pressure\", \"force\", \"overload\", \"wear and tear\"\n",
      "],\n",
      "\"is caused intentionally by\": [\n",
      "\"vandalism\", \"anger\", \"mistake\"\n",
      "],\n",
      "\"has as effect\": [\n",
      "\"damage\", \"breakage\"\n",
      "],\n",
      "\"has as instrument\": [\n",
      "\"hammer\", \"wrench\", \"tool\"\n",
      "],\n",
      "\"is measured by\": [\n",
      "\"force\", \"pressure\", \"stress\"\n",
      "],\n",
      "\"is part of\": [\n",
      "\"maintenance\", \"repair\"\n",
      "],\n",
      "\"results in\": [\n",
      "\"breakage\", \"damage\", \"repair\", \"replacement\"\n",
      "]\n",
      "}\n"
     ]
    }
   ],
   "source": [
    "api_key = \"tgp_v1_FnWpQqvXdjUBRN3MVUSvzk8Ny4EZ7kcZiDMWQM3KUA4\"\n",
    "\n",
    "#json_structure = \"\"\"{\n",
    "#  \"word\": \"book\",\n",
    "#  \"relation\": \"is made of\",\n",
    "#  \"items\": [\n",
    "#      \"paper\"\n",
    "#  ]}\"\"\"\n",
    "\n",
    "word = \"\"\"book\"\"\"\n",
    "\n",
    "system_message = \"\"\"\n",
    "Given your profound knowledge about word (lexical items), I'll give you a list of relations and a word. \n",
    "Please, for each relation you generate a list of words (lexical items) related to the given word. Generate just relation that make sense\n",
    "from a human point of view. Don't use metaphorical or mythological relations.\n",
    "This is the list of relations, separated by commas: is affected agentively by,agentivally causes,agentivally uses,has as agentive cause,has as agentive experience,is associated with,is caused agentively by,is caused by,is caused intentionally by,causes emotion,causes infection,causes naturally,causes reaction,causes,constitutively uses,contains,is created by,is derived from,is found in,has as attribute,has as building part,has as colour,has as effect,has as instrument,has as member,has as origin,has as part,has as source,has as typical location,has diagnostic by,has influence on,is idiosincrasy of,includes,is a instance of,is a follower of,is a kind of,is activity of,is made of,is regulated by,is the ability of,is the activity of,is the activity performed in,is the habit of,is the purpose of,is the workplace of,kinship,lives in,made of,is measured by,measures,is part of,precedes,produces naturally,quantifies,is generally related to,is resolved by,results from,is the result state of,results in,is subtype of,is a symbol of,is typical of,is used against,is used as,is used by,is used during,is used for,is valued by,is a vice of.\n",
    "Note, please, that not all word will use all relations. Give me just those that make sense from a human point of view.\n",
    "If possible, structure your response in a JSON-like format.The given word is written in Brazilian Portugues, so the related words must be also writen in Brazian Portuguese.\n",
    "\"\"\"\n",
    "\n",
    "llm = ChatOpenAI(\n",
    "        base_url=\"https://api.together.xyz/v1\",\n",
    "        api_key=api_key,\n",
    "        model=\"mistralai/Mixtral-8x7B-Instruct-v0.1\",\n",
    "        max_tokens=1024,\n",
    "    )\n",
    "\n",
    "#    structured_llm = llm.with_structured_output(json_structure, method=\"json_mode\")\n",
    "#    system_prompt = system_message.format(json_structure=json_structure)\n",
    "\n",
    "messages = [\n",
    "    SystemMessage(system_message),\n",
    "    HumanMessage(\"quebrar\"),\n",
    "]\n",
    "\n",
    "response = llm.invoke(messages)\n",
    "print(response.content)"
   ]
  },
  {
   "cell_type": "code",
   "execution_count": null,
   "id": "83eb01b8-68e0-4064-bcf3-497ad5f98e0d",
   "metadata": {},
   "outputs": [],
   "source": []
  }
 ],
 "metadata": {
  "kernelspec": {
   "display_name": "FN4.PyTorch",
   "language": "python",
   "name": "fn4.pytorch"
  },
  "language_info": {
   "codemirror_mode": {
    "name": "ipython",
    "version": 3
   },
   "file_extension": ".py",
   "mimetype": "text/x-python",
   "name": "python",
   "nbconvert_exporter": "python",
   "pygments_lexer": "ipython3",
   "version": "3.9.21"
  }
 },
 "nbformat": 4,
 "nbformat_minor": 5
}
