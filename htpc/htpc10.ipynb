{
 "cells": [
  {
   "cell_type": "code",
   "execution_count": 1,
   "id": "6aa81f1f-1fc4-4cc4-bab7-797c5031da9e",
   "metadata": {},
   "outputs": [],
   "source": [
    "import torch\n",
    "import torch.nn as nn\n",
    "import re\n",
    "import matplotlib.pyplot as plt\n",
    "import networkx as nx\n",
    "from collections import defaultdict"
   ]
  },
  {
   "cell_type": "code",
   "execution_count": 5,
   "id": "59e58fdc-9368-4f2d-96fe-8051013c5325",
   "metadata": {},
   "outputs": [],
   "source": [
    "class HTMEncoder(nn.Module):\n",
    "    def __init__(self, vocab, cells_per_column=16):\n",
    "        super().__init__()\n",
    "        self.vocab = vocab\n",
    "        self.columns = len(vocab)\n",
    "        self.cells_per_column = cells_per_column\n",
    "        self.total_cells = self.columns * self.cells_per_column\n",
    "        self.col_to_word = {col_idx: word for word, col_idx in vocab.items()}\n",
    "        self.word_to_cells = {\n",
    "            word: self._allocate_cells(idx) for word, idx in vocab.items()\n",
    "        }\n",
    "\n",
    "    def _allocate_cells(self, column_idx):\n",
    "        start = column_idx * self.cells_per_column\n",
    "        return [start]\n",
    "\n",
    "    def encode(self, word):\n",
    "        vec = torch.zeros(self.total_cells)\n",
    "        for i in self.word_to_cells.get(word, []):\n",
    "            vec[i] = 1.0\n",
    "        return vec\n",
    "\n",
    "    def decode(self, vec):\n",
    "        active_cells = torch.nonzero(vec).flatten().tolist()\n",
    "        col_indices = {i // self.cells_per_column for i in active_cells}\n",
    "        return [self.col_to_word.get(col, \"<unknown>\") for col in col_indices]\n",
    "\n",
    "\n",
    "class DeterministicHTPC:\n",
    "    def __init__(self, word_list, cells_per_column=16):\n",
    "        self.vocab = {word: i for i, word in enumerate(sorted(set(word_list)))}\n",
    "        self.encoder = HTMEncoder(self.vocab, cells_per_column=cells_per_column)\n",
    "        self.transition_counts = defaultdict(int)\n",
    "        self.last_encoded = None\n",
    "        self.last_schema = None\n",
    "\n",
    "    def train_pair(self, word1, word2, schema_id=None):\n",
    "        pre = self.encoder.encode(word1)\n",
    "        post = self.encoder.encode(word2)\n",
    "        for i in torch.nonzero(pre).flatten():\n",
    "            for j in torch.nonzero(post).flatten():\n",
    "                self.transition_counts[(i.item(), j.item(), schema_id)] += 1\n",
    "\n",
    "    def input_word(self, word, schema_id=None):\n",
    "        self.last_encoded = self.encoder.encode(word)\n",
    "        self.last_schema = schema_id\n",
    "\n",
    "    def predict_next(self, top_k=3, return_probs=False):\n",
    "        if self.last_encoded is None:\n",
    "            return [\"<no_input>\"]\n",
    "        pre_indices = torch.nonzero(self.last_encoded).flatten().tolist()\n",
    "        post_counts = defaultdict(float)\n",
    "        for pre in pre_indices:\n",
    "            for (p, q, sid), count in self.transition_counts.items():\n",
    "                if p == pre and sid == self.last_schema:\n",
    "                    post_counts[q] += count\n",
    "        if not post_counts:\n",
    "            return [\"<unknown>\"]\n",
    "        total = sum(post_counts.values())\n",
    "        sorted_posts = sorted(post_counts.items(), key=lambda x: -x[1])\n",
    "        top_post_indices = sorted_posts[:top_k]\n",
    "        result = []\n",
    "        for post_idx, count in top_post_indices:\n",
    "            word = self.encoder.decode(torch.eye(self.encoder.total_cells)[post_idx])[0]\n",
    "            prob = count / total\n",
    "            result.append((word, round(prob, 3)) if return_probs else word)\n",
    "        return result\n",
    "\n",
    "    def simulate_forward(self, start_word, steps=3, schema_id=None):\n",
    "        self.input_word(start_word, schema_id=schema_id)\n",
    "        sequence = [start_word]\n",
    "        for _ in range(steps):\n",
    "            preds = self.predict_next(top_k=1)\n",
    "            next_word = preds[0] if isinstance(preds[0], str) else preds[0][0]\n",
    "            if next_word == \"<unknown>\":\n",
    "                break\n",
    "            sequence.append(next_word)\n",
    "            self.input_word(next_word, schema_id=schema_id)\n",
    "        return sequence\n",
    "\n",
    "    def export_transition_graph(self, schema_id=0):\n",
    "        G = nx.DiGraph()\n",
    "        for (pre, post, sid), count in self.transition_counts.items():\n",
    "            if sid != schema_id:\n",
    "                continue\n",
    "            w1 = self.encoder.decode(torch.eye(self.encoder.total_cells)[pre])[0]\n",
    "            w2 = self.encoder.decode(torch.eye(self.encoder.total_cells)[post])[0]\n",
    "            G.add_edge(w1, w2, weight=count)\n",
    "        pos = nx.spring_layout(G, seed=42)\n",
    "        edge_weights = [G[u][v]['weight'] for u, v in G.edges()]\n",
    "        nx.draw(G, pos, with_labels=True, node_color='lightblue',\n",
    "                edge_color='gray', width=edge_weights, font_size=10)\n",
    "        nx.draw_networkx_edge_labels(G, pos,\n",
    "                                     edge_labels={(u, v): f\"{d['weight']}\" for u, v, d in G.edges(data=True)},\n",
    "                                     font_color='black')\n",
    "        plt.title(f\"Transition Graph (Schema {schema_id})\")\n",
    "        plt.show()"
   ]
  },
  {
   "cell_type": "code",
   "execution_count": 6,
   "id": "9a8e54a8-4e80-4b9a-b559-2112adc3726c",
   "metadata": {},
   "outputs": [],
   "source": [
    "#with open(\"corpus.txt\", \"r\") as f:\n",
    "#    corpus = [line.strip() for line in f if line.strip()]\n",
    "\n",
    "corpus = [\n",
    "    \"the cat sat on the mat\",\n",
    "    \"the dog ran across the yard\",\n",
    "    \"a cat jumped on the table\"\n",
    "    \"a cat hide below the table\",\n",
    "    \"the dog barks loud\"\n",
    "]\n",
    "\n",
    "def extract_sequences(lines):\n",
    "    all_words = set()\n",
    "    schema_data = []\n",
    "    for sid, line in enumerate(lines):\n",
    "        tokens = re.findall(r'\\b\\w+\\b', line.lower())\n",
    "        all_words.update(tokens)\n",
    "        pairs = [(tokens[i], tokens[i+1]) for i in range(len(tokens) - 1)]\n",
    "        schema_data.append((sid, pairs))\n",
    "    return sorted(all_words), schema_data\n",
    "\n",
    "vocab, schema_sequences = extract_sequences(corpus)\n",
    "\n",
    "# Init model\n",
    "model = DeterministicHTPC(word_list=vocab, cells_per_column=16)\n",
    "\n",
    "# Train\n",
    "for schema_id, pairs in schema_sequences:\n",
    "    for w1, w2 in pairs:\n",
    "        model.train_pair(w1, w2, schema_id=schema_id)\n"
   ]
  },
  {
   "cell_type": "code",
   "execution_count": 7,
   "id": "4fc39620-8593-4556-9b24-0738f56333a3",
   "metadata": {},
   "outputs": [
    {
     "name": "stdout",
     "output_type": "stream",
     "text": [
      "Predictions after 'cat': [('sat', 1.0)]\n",
      "Predictions after 'dog': [('ran', 1.0)]\n",
      "Forward simulation (schema 2): ['cat', 'jumped', 'on', 'the', 'tablea', 'cat']\n"
     ]
    }
   ],
   "source": [
    "model.input_word(\"cat\", schema_id=0)\n",
    "print(\"Predictions after 'cat':\", model.predict_next(return_probs=True))\n",
    "\n",
    "model.input_word(\"dog\", schema_id=1)\n",
    "print(\"Predictions after 'dog':\", model.predict_next(return_probs=True))\n",
    "\n",
    "model.input_word(\"cat\", schema_id=2)\n",
    "print(\"Forward simulation (schema 2):\", model.simulate_forward(\"cat\", steps=5, schema_id=2))\n"
   ]
  },
  {
   "cell_type": "code",
   "execution_count": 9,
   "id": "cd752392-325d-4986-93db-5e00e7b1d1de",
   "metadata": {},
   "outputs": [
    {
     "data": {
      "image/png": "[encoded data removed]",
      "text/plain": [
       "<Figure size 640x480 with 1 Axes>"
      ]
     },
     "metadata": {},
     "output_type": "display_data"
    }
   ],
   "source": [
    "model.export_transition_graph(schema_id=1)\n"
   ]
  },
  {
   "cell_type": "code",
   "execution_count": null,
   "id": "656c345c-5735-4b62-97f6-7432d31731f1",
   "metadata": {},
   "outputs": [],
   "source": []
  }
 ],
 "metadata": {
  "kernelspec": {
   "display_name": "FN4.Pytorch",
   "language": "python",
   "name": "fn4.pytorch"
  },
  "language_info": {
   "codemirror_mode": {
    "name": "ipython",
    "version": 3
   },
   "file_extension": ".py",
   "mimetype": "text/x-python",
   "name": "python",
   "nbconvert_exporter": "python",
   "pygments_lexer": "ipython3",
   "version": "3.9.21"
  }
 },
 "nbformat": 4,
 "nbformat_minor": 5
}
