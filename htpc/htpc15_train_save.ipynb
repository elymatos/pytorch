{
 "cells": [
  {
   "cell_type": "code",
   "execution_count": 1,
   "id": "065c6c89-d1c9-4569-ade2-6847a31f6d58",
   "metadata": {},
   "outputs": [
    {
     "name": "stdout",
     "output_type": "stream",
     "text": [
      "HTPC model trained and saved to 'htpc_model.json'.\n"
     ]
    }
   ],
   "source": [
    "import json\n",
    "import numpy as np\n",
    "from collections import defaultdict\n",
    "\n",
    "# === Define training data: 5 example sentences ===\n",
    "training_sentences = [\n",
    "    ['the', 'dog', 'ran', 'in', 'the', 'park'],\n",
    "    ['the', 'cat', 'slept', 'on', 'the', 'mat'],\n",
    "    ['a', 'boy', 'played', 'in', 'the', 'park'],\n",
    "    ['the', 'dog', 'barked', 'at', 'the', 'cat'],\n",
    "    ['a', 'girl', 'ran', 'with', 'the', 'dog']\n",
    "]\n",
    "\n",
    "# === Initialize memory structures ===\n",
    "token_transitions = defaultdict(lambda: None)   # Level 0: token -> next token\n",
    "bigram_memory = dict()                          # Level 1: bigram → activation vector\n",
    "phrase_memory = dict()                          # Level 2: phrase (sequence of bigrams) → activation vector\n",
    "\n",
    "# === Build token transitions (Level 0) ===\n",
    "for sentence in training_sentences:\n",
    "    for i in range(len(sentence) - 1):\n",
    "        token_transitions[sentence[i]] = sentence[i + 1]\n",
    "\n",
    "# === Build bigram memory (Level 1) ===\n",
    "for sentence in training_sentences:\n",
    "    n = len(sentence)\n",
    "    for i in range(1, n):\n",
    "        bigram = (sentence[i - 1], sentence[i])\n",
    "        vec = np.zeros(n)\n",
    "        vec[i - 1] = 1\n",
    "        vec[i] = 1\n",
    "        bigram_memory[bigram] = vec\n",
    "\n",
    "# === Build phrase memory (Level 2) ===\n",
    "for sentence in training_sentences:\n",
    "    n = len(sentence)\n",
    "    if n >= 6:\n",
    "        phrase = tuple((sentence[j], sentence[j + 1]) for j in range(n - 1))\n",
    "        phrase_memory[phrase] = np.ones(n)\n",
    "\n",
    "# === Convert data to JSON-serializable format ===\n",
    "def convert_for_json(model):\n",
    "    return {\n",
    "        'token_transitions': model['token_transitions'],\n",
    "        'bigram_memory': {\n",
    "            f\"{k[0]}|||{k[1]}\": v.tolist() for k, v in model['bigram_memory'].items()\n",
    "        },\n",
    "        'phrase_memory': {\n",
    "            \"|||\".join([f\"{a}__{b}\" for (a, b) in k]): v.tolist() for k, v in model['phrase_memory'].items()\n",
    "        }\n",
    "    }\n",
    "\n",
    "# === Pack the model ===\n",
    "htpc_model = {\n",
    "    'token_transitions': dict(token_transitions),\n",
    "    'bigram_memory': bigram_memory,\n",
    "    'phrase_memory': phrase_memory\n",
    "}\n",
    "\n",
    "# === Convert and save as JSON ===\n",
    "json_ready_model = convert_for_json(htpc_model)\n",
    "with open(\"htpc_model.json\", \"w\") as f:\n",
    "    json.dump(json_ready_model, f, indent=2)\n",
    "\n",
    "print(\"HTPC model trained and saved to 'htpc_model.json'.\")\n"
   ]
  },
  {
   "cell_type": "code",
   "execution_count": null,
   "id": "544a4d17-5b5b-4910-9e08-48683bd19254",
   "metadata": {},
   "outputs": [],
   "source": []
  }
 ],
 "metadata": {
  "kernelspec": {
   "display_name": "FN4.Pytorch",
   "language": "python",
   "name": "fn4.pytorch"
  },
  "language_info": {
   "codemirror_mode": {
    "name": "ipython",
    "version": 3
   },
   "file_extension": ".py",
   "mimetype": "text/x-python",
   "name": "python",
   "nbconvert_exporter": "python",
   "pygments_lexer": "ipython3",
   "version": "3.9.21"
  }
 },
 "nbformat": 4,
 "nbformat_minor": 5
}
