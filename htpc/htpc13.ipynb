{
 "cells": [
  {
   "cell_type": "markdown",
   "id": "d03f7ede",
   "metadata": {},
   "source": [
    "# HTPC Graph-Based Full Model\n",
    "A high-level implementation of a **Hierarchical Temporal Predictive Coding (HTPC)** cortical model using a graph-based structure.\n",
    "\n",
    "- Each **node** represents a cortical column (e.g., minicolumn or macrocolumn)\n",
    "- **Edges** represent feedforward, feedback, and lateral predictive connections"
   ]
  },
  {
   "cell_type": "code",
   "execution_count": 3,
   "id": "7293645a",
   "metadata": {},
   "outputs": [],
   "source": [
    "# Imports\n",
    "import networkx as nx\n",
    "import numpy as np\n",
    "from collections import defaultdict"
   ]
  },
  {
   "cell_type": "markdown",
   "id": "1b9febcf",
   "metadata": {},
   "source": [
    "## HTMNeuron Class\n",
    "Defines a simplified neuron with prediction and activation tracking."
   ]
  },
  {
   "cell_type": "code",
   "execution_count": 4,
   "id": "6db554c2",
   "metadata": {},
   "outputs": [],
   "source": [
    "class HTMNeuron:\n",
    "    def __init__(self, id, layer, column_id):\n",
    "        self.id = id\n",
    "        self.layer = layer\n",
    "        self.column_id = column_id\n",
    "        self.active = False\n",
    "        self.predictive = False\n",
    "        self.activation_history = []\n",
    "        self.incoming_synapses = defaultdict(float)  # neuron_id -> permanence\n",
    "        self.outgoing_synapses = defaultdict(float)\n",
    "\n",
    "    def compute_prediction(self, active_neurons):\n",
    "        pred_input = sum(self.incoming_synapses[n.id] for n in active_neurons if n.id in self.incoming_synapses)\n",
    "        self.predictive = pred_input > 0.5  # Threshold can be tuned\n",
    "        return self.predictive\n",
    "\n",
    "    def activate(self):\n",
    "        self.active = True\n",
    "        self.activation_history.append(1)\n",
    "\n",
    "    def deactivate(self):\n",
    "        self.active = False\n",
    "        self.activation_history.append(0)"
   ]
  },
  {
   "cell_type": "markdown",
   "id": "437970b5",
   "metadata": {},
   "source": [
    "## CorticalColumn Class\n",
    "Groups a set of neurons into a single cortical column."
   ]
  },
  {
   "cell_type": "code",
   "execution_count": 5,
   "id": "9fa6fc89",
   "metadata": {},
   "outputs": [],
   "source": [
    "class CorticalColumn:\n",
    "    def __init__(self, id, layer, n_neurons=4):\n",
    "        self.id = id\n",
    "        self.layer = layer\n",
    "        self.neurons = [HTMNeuron(f\"{id}_{i}\", layer, id) for i in range(n_neurons)]\n",
    "\n",
    "    def get_active_neurons(self):\n",
    "        return [n for n in self.neurons if n.active]\n",
    "\n",
    "    def get_predictive_neurons(self):\n",
    "        return [n for n in self.neurons if n.predictive]"
   ]
  },
  {
   "cell_type": "markdown",
   "id": "0ff8f76e",
   "metadata": {},
   "source": [
    "## HTPCGraphModel Class\n",
    "The full graph structure, with methods for adding columns, connecting them, and propagating activity."
   ]
  },
  {
   "cell_type": "code",
   "execution_count": 6,
   "id": "bdc459bb",
   "metadata": {},
   "outputs": [],
   "source": [
    "class HTPCGraphModel:\n",
    "    def __init__(self):\n",
    "        self.graph = nx.DiGraph()\n",
    "        self.columns = {}  # id -> CorticalColumn\n",
    "\n",
    "    def add_column(self, id, layer):\n",
    "        column = CorticalColumn(id, layer)\n",
    "        self.columns[id] = column\n",
    "        self.graph.add_node(id, column=column)\n",
    "\n",
    "    def connect_columns(self, src_id, tgt_id, weight=1.0, conn_type=\"feedforward\"):\n",
    "        self.graph.add_edge(src_id, tgt_id, weight=weight, type=conn_type)\n",
    "\n",
    "    def propagate_activity(self):\n",
    "        for column in self.columns.values():\n",
    "            for neuron in column.neurons:\n",
    "                active_sources = self.get_active_neurons_from_inputs(neuron)\n",
    "                neuron.compute_prediction(active_sources)\n",
    "\n",
    "        for column in self.columns.values():\n",
    "            for neuron in column.neurons:\n",
    "                if neuron.predictive:\n",
    "                    neuron.activate()\n",
    "                else:\n",
    "                    neuron.deactivate()\n",
    "\n",
    "    def get_active_neurons_from_inputs(self, neuron):\n",
    "        inputs = []\n",
    "        for src_id, _, data in self.graph.in_edges(neuron.column_id, data=True):\n",
    "            if data['type'] in (\"feedforward\", \"lateral\"):\n",
    "                src_column = self.columns[src_id]\n",
    "                inputs.extend(src_column.get_active_neurons())\n",
    "        return inputs\n",
    "\n",
    "    def reset_activations(self):\n",
    "        for column in self.columns.values():\n",
    "            for neuron in column.neurons:\n",
    "                neuron.active = False\n",
    "                neuron.predictive = False"
   ]
  },
  {
   "cell_type": "markdown",
   "id": "d7ba989d",
   "metadata": {},
   "source": [
    "## Run Example\n",
    "Manually activate a neuron in V1 and propagate activity to V2."
   ]
  },
  {
   "cell_type": "code",
   "execution_count": 8,
   "id": "e10663ee",
   "metadata": {},
   "outputs": [
    {
     "name": "stdout",
     "output_type": "stream",
     "text": [
      "Neuron V2_0: Active=False, Predictive=False\n",
      "Neuron V2_1: Active=False, Predictive=False\n",
      "Neuron V2_2: Active=False, Predictive=False\n",
      "Neuron V2_3: Active=False, Predictive=False\n"
     ]
    },
    {
     "data": {
      "image/png": "[encoded data removed]",
      "text/plain": [
       "<Figure size 800x600 with 1 Axes>"
      ]
     },
     "metadata": {},
     "output_type": "display_data"
    }
   ],
   "source": [
    "# Example usage\n",
    "model = HTPCGraphModel()\n",
    "model.add_column(\"V1\", layer=\"L4\")\n",
    "model.add_column(\"V2\", layer=\"L4\")\n",
    "model.connect_columns(\"V1\", \"V2\", weight=1.0, conn_type=\"feedforward\")\n",
    "\n",
    "# Activate a neuron in V1\n",
    "v1_column = model.columns[\"V1\"]\n",
    "v1_column.neurons[0].activate()\n",
    "\n",
    "# Propagate activity\n",
    "model.propagate_activity()\n",
    "\n",
    "# Check V2 output\n",
    "v2_column = model.columns[\"V2\"]\n",
    "for neuron in v2_column.neurons:\n",
    "    print(f\"Neuron {neuron.id}: Active={neuron.active}, Predictive={neuron.predictive}\")\n",
    "\n",
    "import matplotlib.pyplot as plt\n",
    "\n",
    "def visualize_htpc_graph(model):\n",
    "    pos = nx.spring_layout(model.graph, seed=42)  # or use shell_layout/circular_layout\n",
    "    edge_labels = nx.get_edge_attributes(model.graph, 'type')\n",
    "\n",
    "    plt.figure(figsize=(8, 6))\n",
    "    nx.draw(model.graph, pos, with_labels=True, node_color='lightblue', node_size=1200, font_size=10, arrows=True)\n",
    "    nx.draw_networkx_edge_labels(model.graph, pos, edge_labels=edge_labels, font_color='red')\n",
    "    plt.title(\"HTPC Cortical Column Graph\")\n",
    "    plt.axis('off')\n",
    "    plt.show()\n",
    "\n",
    "# Call the function\n",
    "visualize_htpc_graph(model)\n"
   ]
  },
  {
   "cell_type": "code",
   "execution_count": null,
   "id": "0b1d74da-57f0-44c1-a541-a13609035acf",
   "metadata": {},
   "outputs": [],
   "source": []
  }
 ],
 "metadata": {
  "kernelspec": {
   "display_name": "FN4.PyTorch",
   "language": "python",
   "name": "fn4.pytorch"
  },
  "language_info": {
   "codemirror_mode": {
    "name": "ipython",
    "version": 3
   },
   "file_extension": ".py",
   "mimetype": "text/x-python",
   "name": "python",
   "nbconvert_exporter": "python",
   "pygments_lexer": "ipython3",
   "version": "3.9.21"
  }
 },
 "nbformat": 4,
 "nbformat_minor": 5
}
