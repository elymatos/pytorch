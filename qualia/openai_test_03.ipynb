{
 "cells": [
  {
   "cell_type": "code",
   "execution_count": 8,
   "id": "48aeef30-c2d4-4221-b483-32331c865e1c",
   "metadata": {},
   "outputs": [],
   "source": [
    "import os\n",
    "os.environ[\"OPENAI_API_KEY\"] ="
   ]
  },
  {
   "cell_type": "code",
   "execution_count": 9,
   "id": "72673cc4-f482-4d1a-834b-67fe8aa8cddb",
   "metadata": {},
   "outputs": [
    {
     "name": "stdout",
     "output_type": "stream",
     "text": [
      "{'quebrar': {'%w1 causes %w2': ['danos', 'fragmentos', 'desgaste'], '%w1 uses %w2': ['força', 'impacto', 'ferramenta'], 'the occurrence of %w1 can cause emotion %w2': ['frustração', 'raiva', 'tristeza'], '%w2 is caused by %w1 by natural means': ['fragmentação', 'danos', 'desgaste'], 'the occurrence of %w1 can cause the reaction %w2': ['reparo', 'substituição', 'limpeza'], '%w2 is a typical syntactic object of %w1': ['vidro', 'prato', 'osso'], '%w2 is a typical semantic agent of %w1': ['martelo', 'queda', 'impacto'], '%w2 is a typical semantic patient of %w1': ['vidro', 'prato', 'osso'], '%w1 typically occurs in the context of %w2': ['acidente', 'construção', 'manutenção'], '%w2 typically occurs in the context of %w1': ['reparo', 'substituição', 'limpeza'], '%w2 is a instrument typically used in the process of %w1': ['martelo', 'pé de cabra', 'alicate']}}\n"
     ]
    }
   ],
   "source": [
    "from langchain_core.prompts import PromptTemplate\n",
    "from langchain_openai import ChatOpenAI\n",
    "from typing import Dict\n",
    "from langchain_core.messages import HumanMessage, SystemMessage\n",
    "from langchain_core.output_parsers import JsonOutputParser\n",
    "\n",
    "system_message = \"\"\"\n",
    "Given your profound knowledge about words, lexical items and concepts, I'll give you a list of templates of sentences that represents a relation between two words ans a list of words. \n",
    "In each template sentence in the list the expression %w1 represents a given word and the expression %w2 represents a related word.\n",
    "For each word in the given list, you must process all the sentence templates, replacing the %w2 expression with a related word.\n",
    "Note, please, that not all the given words will use all sentences. Give me just those that make sense from a human point of view.\n",
    "Don't use metaphorical or mythological relations or interpretations. Use your linguistic (syntactic and grammatical) and conceptual knowledge to complete the sentence.\n",
    "Here is the list of templates, separated by commas: {relations}.\n",
    "If possible, structure your response in a JSON-like format. In the response, please make just the word for expression %w2 explicit, not the whole template text.\n",
    "Try to get from 3 to 5 words for each expression %w2 in a template.\n",
    "The words are written in Brazilian Portuguese, so the related words must be also writen in Brazilian Portuguese.\n",
    "\\n{format_instructions}\\n{query}\\n\n",
    "\"\"\"\n",
    "\n",
    "llm = ChatOpenAI(\n",
    "    model=\"gpt-4o\",\n",
    "    temperature=0.2,\n",
    "    max_tokens=None,\n",
    "    timeout=None,\n",
    "    max_retries=2,\n",
    "    # api_key=\"...\",  # if you prefer to pass api key in directly instaed of using env vars\n",
    "    # base_url=\"...\",\n",
    "    # organization=\"...\",\n",
    "    # other params...\n",
    ")\n",
    "\n",
    "parser = JsonOutputParser()\n",
    "relations = [\n",
    "    '%w1 causes %w2',\n",
    "    '%w1 uses %w2',\n",
    "    'the occurrence of %w1 can cause emotion %w2',\n",
    "    '%w2 is caused by %w1 by natural means',\n",
    "    'the occurrence of %w1 can cause the reaction %w2',\n",
    "    '%w2 is a typical syntactic subject of %w1',\n",
    "    '%w2 is a typical syntactic object of %w1',\n",
    "    '%w2 is a typical semantic agent of %w1',\n",
    "    '%w2 is a typical semantic patient of %w1',\n",
    "    '%w1 typically occurs in the context of %w2',\n",
    "    '%w2 typically occurs in the context of %w1',\n",
    "    '%w2 is a instrument typically used in the process of %w1',\n",
    "]\n",
    "\n",
    "generator_expr = (str(element) for element in relations)\n",
    "separator = ','\n",
    "relations_string = separator.join(generator_expr)\n",
    "\n",
    "prompt = PromptTemplate(\n",
    "    template=system_message,\n",
    "    input_variables=[\"query\", \"relations\"],\n",
    "    partial_variables={\"format_instructions\": parser.get_format_instructions(), \"relations\": relations_string},\n",
    ")\n",
    "\n",
    "chain = prompt | llm | parser\n",
    "\n",
    "response = chain.invoke({\"query\": \"quebrar\"})\n",
    "\n",
    "print(response)"
   ]
  },
  {
   "cell_type": "code",
   "execution_count": null,
   "id": "30658b97-4f67-4faa-b8a0-0f61059aa113",
   "metadata": {},
   "outputs": [],
   "source": []
  }
 ],
 "metadata": {
  "kernelspec": {
   "display_name": "FN4.PyTorch",
   "language": "python",
   "name": "fn4.pytorch"
  },
  "language_info": {
   "codemirror_mode": {
    "name": "ipython",
    "version": 3
   },
   "file_extension": ".py",
   "mimetype": "text/x-python",
   "name": "python",
   "nbconvert_exporter": "python",
   "pygments_lexer": "ipython3",
   "version": "3.9.21"
  }
 },
 "nbformat": 4,
 "nbformat_minor": 5
}
