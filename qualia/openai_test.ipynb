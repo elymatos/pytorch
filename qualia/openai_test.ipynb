{
 "cells": [
  {
   "cell_type": "code",
   "execution_count": 3,
   "id": "48aeef30-c2d4-4221-b483-32331c865e1c",
   "metadata": {},
   "outputs": [],
   "source": [
    "import os\n",
    "os.environ[\"OPENAI_API_KEY\"] ="
   ]
  },
  {
   "cell_type": "code",
   "execution_count": 18,
   "id": "72673cc4-f482-4d1a-834b-67fe8aa8cddb",
   "metadata": {},
   "outputs": [
    {
     "name": "stdout",
     "output_type": "stream",
     "text": [
      "{'quebrar': {'is caused by': ['impacto', 'pressão', 'queda'], 'causes': ['danos', 'fragmentação'], 'is used for': ['abrir', 'destruir'], 'is associated with': ['fragilidade', 'ruptura'], 'has as effect': ['destruição', 'perda de funcionalidade'], 'is resolved by': ['reparo', 'substituição']}}\n"
     ]
    }
   ],
   "source": [
    "from langchain.chat_models import ChatOpenAI\n",
    "from langchain_core.prompts import PromptTemplate\n",
    "from langchain_openai import ChatOpenAI\n",
    "from typing import Dict\n",
    "from langchain_core.messages import HumanMessage, SystemMessage\n",
    "from langchain_core.output_parsers import JsonOutputParser\n",
    "\n",
    "system_message = \"\"\"\n",
    "Given your profound knowledge about word (lexical items), I'll give you a list of relations and a word. \n",
    "Please, for each relation you generate a list of words (lexical items) related to the given word. Generate just relation that make sense\n",
    "from a human point of view. Don't use metaphorical or mythological relations.\n",
    "This is the list of relations, separated by commas: is affected agentively by,agentivally causes,agentivally uses,has as agentive cause,has as agentive experience,is associated with,is caused agentively by,is caused by,is caused intentionally by,causes emotion,causes infection,causes naturally,causes reaction,causes,constitutively uses,contains,is created by,is derived from,is found in,has as attribute,has as building part,has as colour,has as effect,has as instrument,has as member,has as origin,has as part,has as source,has as typical location,has diagnostic by,has influence on,is idiosincrasy of,includes,is a instance of,is a follower of,is a kind of,is activity of,is made of,is regulated by,is the ability of,is the activity of,is the activity performed in,is the habit of,is the purpose of,is the workplace of,kinship,lives in,made of,is measured by,measures,is part of,precedes,produces naturally,quantifies,is generally related to,is resolved by,results from,is the result state of,results in,is subtype of,is a symbol of,is typical of,is used against,is used as,is used by,is used during,is used for,is valued by,is a vice of.\n",
    "Note, please, that not all word will use all relations. Give me just those that make sense from a human point of view.\n",
    "If possible, structure your response in a JSON-like format.The given word is written in Brazilian Portugues, so the related words must be also writen in Brazian Portuguese.\n",
    "\\n{format_instructions}\\n{query}\\n\n",
    "\"\"\"\n",
    "\n",
    "llm = ChatOpenAI(\n",
    "    model=\"gpt-4o\",\n",
    "    temperature=0.2,\n",
    "    max_tokens=None,\n",
    "    timeout=None,\n",
    "    max_retries=2,\n",
    "    # api_key=\"...\",  # if you prefer to pass api key in directly instaed of using env vars\n",
    "    # base_url=\"...\",\n",
    "    # organization=\"...\",\n",
    "    # other params...\n",
    ")\n",
    "\n",
    "parser = JsonOutputParser()\n",
    "\n",
    "prompt = PromptTemplate(\n",
    "    template=system_message,\n",
    "    input_variables=[\"query\"],\n",
    "    partial_variables={\"format_instructions\": parser.get_format_instructions()},\n",
    ")\n",
    "\n",
    "chain = prompt | llm | parser\n",
    "\n",
    "response = chain.invoke({\"query\": \"quebrar\"})\n",
    "\n",
    "#messages = [\n",
    "#    SystemMessage(system_message),\n",
    "#    HumanMessage(\"quebrar\"),\n",
    "#]\n",
    "\n",
    "#response = llm.invoke(messages)\n",
    "print(response)"
   ]
  },
  {
   "cell_type": "code",
   "execution_count": null,
   "id": "30658b97-4f67-4faa-b8a0-0f61059aa113",
   "metadata": {},
   "outputs": [],
   "source": []
  }
 ],
 "metadata": {
  "kernelspec": {
   "display_name": "FN4.PyTorch",
   "language": "python",
   "name": "fn4.pytorch"
  },
  "language_info": {
   "codemirror_mode": {
    "name": "ipython",
    "version": 3
   },
   "file_extension": ".py",
   "mimetype": "text/x-python",
   "name": "python",
   "nbconvert_exporter": "python",
   "pygments_lexer": "ipython3",
   "version": "3.9.21"
  }
 },
 "nbformat": 4,
 "nbformat_minor": 5
}
